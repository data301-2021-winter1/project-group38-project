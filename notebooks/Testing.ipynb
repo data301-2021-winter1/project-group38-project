{
 "cells": [
  {
   "cell_type": "markdown",
   "id": "afbb82c7-9548-497c-b4fe-62454b94d980",
   "metadata": {},
   "source": [
    "**Step 2:** (Part 3) Remove any rows that have null values"
   ]
  },
  {
   "cell_type": "code",
   "execution_count": null,
   "id": "f81a314a-950b-4230-90df-d0d80a96f492",
   "metadata": {},
   "outputs": [],
   "source": [
    "nhl_analysis_clean3 = nhl_analysis_clean2.dropna()\n",
    "nhl_analysis_clean3 = nhl_analysis_clean3.reset_index(drop=True)\n",
    "nhl_analysis_clean3"
   ]
  }
 ],
 "metadata": {
  "kernelspec": {
   "display_name": "Python 3 (ipykernel)",
   "language": "python",
   "name": "python3"
  },
  "language_info": {
   "codemirror_mode": {
    "name": "ipython",
    "version": 3
   },
   "file_extension": ".py",
   "mimetype": "text/x-python",
   "name": "python",
   "nbconvert_exporter": "python",
   "pygments_lexer": "ipython3",
   "version": "3.9.5"
  }
 },
 "nbformat": 4,
 "nbformat_minor": 5
}
