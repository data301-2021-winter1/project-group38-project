{
 "cells": [
  {
   "cell_type": "markdown",
   "source": [
    "# Matthew Hansen"
   ],
   "metadata": {}
  },
  {
   "cell_type": "markdown",
   "source": [
    "## Is it possible to predict future all stars?\r\n",
    "\r\n",
    "I am interested in analyzing the statistics of NHL all stars before they became all stars to determine if there are predictors for future all stars."
   ],
   "metadata": {}
  }
 ],
 "metadata": {
  "orig_nbformat": 4,
  "language_info": {
   "name": "plaintext"
  }
 },
 "nbformat": 4,
 "nbformat_minor": 2
}
