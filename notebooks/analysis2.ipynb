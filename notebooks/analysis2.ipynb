{
 "cells": [
  {
   "cell_type": "markdown",
   "metadata": {},
   "source": [
    "# Matthew Hansen"
   ]
  },
  {
   "cell_type": "markdown",
   "metadata": {},
   "source": [
    "## Is it possible to predict future all stars?\r\n",
    "\r\n",
    "I am interested in analyzing the statistics of NHL all stars before they became all stars to determine if there are predictors for future all stars."
   ]
  },
  {
   "cell_type": "code",
   "execution_count": 1,
   "metadata": {},
   "outputs": [],
   "source": [
    "import pandas as pd"
   ]
  },
  {
   "cell_type": "code",
   "execution_count": 2,
   "metadata": {},
   "outputs": [
    {
     "data": {
      "text/html": [
       "<div>\n",
       "<style scoped>\n",
       "    .dataframe tbody tr th:only-of-type {\n",
       "        vertical-align: middle;\n",
       "    }\n",
       "\n",
       "    .dataframe tbody tr th {\n",
       "        vertical-align: top;\n",
       "    }\n",
       "\n",
       "    .dataframe thead th {\n",
       "        text-align: right;\n",
       "    }\n",
       "</style>\n",
       "<table border=\"1\" class=\"dataframe\">\n",
       "  <thead>\n",
       "    <tr style=\"text-align: right;\">\n",
       "      <th></th>\n",
       "      <th>Name;Date_of_birth;SEASON_year;SEASON;TEAM;Games_Played;Goals;Assists;Points;PlusMinus_Ratings;Penalty_Minutes;Shots_on_Goal;Shooting_Percentage;PowerPlay_Goals;PowerPlay_Assists;Short_Goals;Short_Assists;Game_Winning_Goals;Game_Tying_Goals;Time_on_Ice_per_Game;Production;Number;Games_Started;Wins;Losses;Ties;Overtime_Losses;Goals_Against;Goals_Against_Average;Shots_Against;Saves;Save_Percentage;Shutouts;Position;Height;Weight;Body_mass_index;Place_of_birth;Age;Experience</th>\n",
       "    </tr>\n",
       "  </thead>\n",
       "  <tbody>\n",
       "    <tr>\n",
       "      <th>Aaron Downey;1974-08-27;2000;'99-'00;BOS;1;0;0;0;0;0;0;0;0;0;0;0;0;0;8:31;0:00;32;;;;;;;;;;;;Right_wing;185;98;28.6;Shelburne</th>\n",
       "      <td>Ontario;26;1</td>\n",
       "    </tr>\n",
       "    <tr>\n",
       "      <th>Aaron Downey;1974-08-27;2001;'00-'01;CHI;3;0;0;0;-1;6;2;0;0;0;0;0;0;0;5:30;0:00;32;;;;;;;;;;;;Right_wing;185;98;28.6;Shelburne</th>\n",
       "      <td>Ontario;27;2</td>\n",
       "    </tr>\n",
       "    <tr>\n",
       "      <th>Aaron Downey;1974-08-27;2002;'01-'02;CHI;36;1;0;1;-2;76;10;10;0;0;0;0;1;0;5:06;183:38;32;;;;;;;;;;;;Right_wing;185;98;28.6;Shelburne</th>\n",
       "      <td>Ontario;28;3</td>\n",
       "    </tr>\n",
       "    <tr>\n",
       "      <th>Aaron Downey;1974-08-27;2003;'02-'03;DAL;43;1;1;2;1;69;14;7.1;0;0;0;0;0;0;4:47;102:40;32;;;;;;;;;;;;Right_wing;185;98;28.6;Shelburne</th>\n",
       "      <td>Ontario;29;4</td>\n",
       "    </tr>\n",
       "    <tr>\n",
       "      <th>Aaron Downey;1974-08-27;2004;'03-'04;DAL;37;1;1;2;2;77;11;9.1;0;0;0;0;1;0;4:30;83:19;32;;;;;;;;;;;;Right_wing;185;98;28.6;Shelburne</th>\n",
       "      <td>Ontario;30;5</td>\n",
       "    </tr>\n",
       "    <tr>\n",
       "      <th>...</th>\n",
       "      <td>...</td>\n",
       "    </tr>\n",
       "    <tr>\n",
       "      <th>Zigmund Palffy;1972-05-05;2001;'00-'01;LA;73;38;51;89;22;20;217;17.5;12;28;4;0;8;0;19:46;16:13;33;;;;;;;;;;;;Right_wing;178;85;26.8;Skalica;29;8</th>\n",
       "      <td>NaN</td>\n",
       "    </tr>\n",
       "    <tr>\n",
       "      <th>Zigmund Palffy;1972-05-05;2002;'01-'02;LA;63;32;27;59;5;26;161;19.9;15;12;1;0;6;1;20:18;21:40;33;;;;;;;;;;;;Right_wing;178;85;26.8;Skalica;30;9</th>\n",
       "      <td>NaN</td>\n",
       "    </tr>\n",
       "    <tr>\n",
       "      <th>Zigmund Palffy;1972-05-05;2003;'02-'03;LA;76;37;48;85;22;47;277;13.4;10;17;2;1;5;0;22:27;20:04;33;;;;;;;;;;;;Right_wing;178;85;26.8;Skalica;31;10</th>\n",
       "      <td>NaN</td>\n",
       "    </tr>\n",
       "    <tr>\n",
       "      <th>Zigmund Palffy;1972-05-05;2004;'03-'04;LA;35;16;25;41;18;12;109;14.7;3;14;3;1;2;0;21:29;18:21;33;;;;;;;;;;;;Right_wing;178;85;26.8;Skalica;32;11</th>\n",
       "      <td>NaN</td>\n",
       "    </tr>\n",
       "    <tr>\n",
       "      <th>Zigmund Palffy;1972-05-05;2006;'05-'06;PIT;42;11;31;42;5;12;112;9.8;2;9;0;0;2;;19:19;19:19;33;;;;;;;;;;;;Right_wing;178;85;26.8;Skalica;34;13</th>\n",
       "      <td>NaN</td>\n",
       "    </tr>\n",
       "  </tbody>\n",
       "</table>\n",
       "<p>27319 rows × 1 columns</p>\n",
       "</div>"
      ],
      "text/plain": [
       "                                                   Name;Date_of_birth;SEASON_year;SEASON;TEAM;Games_Played;Goals;Assists;Points;PlusMinus_Ratings;Penalty_Minutes;Shots_on_Goal;Shooting_Percentage;PowerPlay_Goals;PowerPlay_Assists;Short_Goals;Short_Assists;Game_Winning_Goals;Game_Tying_Goals;Time_on_Ice_per_Game;Production;Number;Games_Started;Wins;Losses;Ties;Overtime_Losses;Goals_Against;Goals_Against_Average;Shots_Against;Saves;Save_Percentage;Shutouts;Position;Height;Weight;Body_mass_index;Place_of_birth;Age;Experience\n",
       "Aaron Downey;1974-08-27;2000;'99-'00;BOS;1;0;0;...                                       Ontario;26;1                                                                                                                                                                                                                                                                                                                                                                                                                                          \n",
       "Aaron Downey;1974-08-27;2001;'00-'01;CHI;3;0;0;...                                       Ontario;27;2                                                                                                                                                                                                                                                                                                                                                                                                                                          \n",
       "Aaron Downey;1974-08-27;2002;'01-'02;CHI;36;1;0...                                       Ontario;28;3                                                                                                                                                                                                                                                                                                                                                                                                                                          \n",
       "Aaron Downey;1974-08-27;2003;'02-'03;DAL;43;1;1...                                       Ontario;29;4                                                                                                                                                                                                                                                                                                                                                                                                                                          \n",
       "Aaron Downey;1974-08-27;2004;'03-'04;DAL;37;1;1...                                       Ontario;30;5                                                                                                                                                                                                                                                                                                                                                                                                                                          \n",
       "...                                                                                               ...                                                                                                                                                                                                                                                                                                                                                                                                                                          \n",
       "Zigmund Palffy;1972-05-05;2001;'00-'01;LA;73;38...                                                NaN                                                                                                                                                                                                                                                                                                                                                                                                                                          \n",
       "Zigmund Palffy;1972-05-05;2002;'01-'02;LA;63;32...                                                NaN                                                                                                                                                                                                                                                                                                                                                                                                                                          \n",
       "Zigmund Palffy;1972-05-05;2003;'02-'03;LA;76;37...                                                NaN                                                                                                                                                                                                                                                                                                                                                                                                                                          \n",
       "Zigmund Palffy;1972-05-05;2004;'03-'04;LA;35;16...                                                NaN                                                                                                                                                                                                                                                                                                                                                                                                                                          \n",
       "Zigmund Palffy;1972-05-05;2006;'05-'06;PIT;42;1...                                                NaN                                                                                                                                                                                                                                                                                                                                                                                                                                          \n",
       "\n",
       "[27319 rows x 1 columns]"
      ]
     },
     "execution_count": 2,
     "metadata": {},
     "output_type": "execute_result"
    }
   ],
   "source": [
    "pd.read_csv(\"../data/raw/NHL_Players_Statistics.csv\")"
   ]
  },
  {
   "cell_type": "code",
   "execution_count": null,
   "metadata": {},
   "outputs": [],
   "source": []
  }
 ],
 "metadata": {
  "kernelspec": {
   "display_name": "Python 3 (ipykernel)",
   "language": "python",
   "name": "python3"
  },
  "language_info": {
   "codemirror_mode": {
    "name": "ipython",
    "version": 3
   },
   "file_extension": ".py",
   "mimetype": "text/x-python",
   "name": "python",
   "nbconvert_exporter": "python",
   "pygments_lexer": "ipython3",
   "version": "3.9.5"
  }
 },
 "nbformat": 4,
 "nbformat_minor": 4
}
