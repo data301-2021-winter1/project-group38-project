{
 "cells": [
  {
   "cell_type": "markdown",
   "source": [
    "# Matthew Hansen"
   ],
   "metadata": {}
  },
  {
   "cell_type": "markdown",
   "source": [
    "## Is it possible to predict future all stars?\r\n",
    "\r\n",
    "Briefly describe your research question or interests here."
   ],
   "metadata": {}
  }
 ],
 "metadata": {
  "orig_nbformat": 4,
  "language_info": {
   "name": "plaintext"
  }
 },
 "nbformat": 4,
 "nbformat_minor": 2
}
