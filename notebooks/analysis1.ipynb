{
 "cells": [
  {
   "cell_type": "markdown",
   "source": [
    "# Max Becker"
   ],
   "metadata": {}
  },
  {
   "cell_type": "markdown",
   "source": [
    "## Research question/interests\r\n",
    "\r\n",
    "I am interested in the ideal size of a hockey player. Whether it is the best size for scoring based off of the data present or the ideal size for a goalie, it will be interesting to discover the ideal size for different roles and allow people to compare themselves to this analysis."
   ],
   "metadata": {}
  }
 ],
 "metadata": {
  "orig_nbformat": 4,
  "language_info": {
   "name": "plaintext"
  }
 },
 "nbformat": 4,
 "nbformat_minor": 2
}
